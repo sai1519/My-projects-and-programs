{
  "nbformat": 4,
  "nbformat_minor": 0,
  "metadata": {
    "colab": {
      "provenance": [],
      "authorship_tag": "ABX9TyOcL5fNgj737cx9NHDy058y",
      "include_colab_link": true
    },
    "kernelspec": {
      "name": "python3",
      "display_name": "Python 3"
    },
    "language_info": {
      "name": "python"
    }
  },
  "cells": [
    {
      "cell_type": "markdown",
      "metadata": {
        "id": "view-in-github",
        "colab_type": "text"
      },
      "source": [
        "<a href=\"https://colab.research.google.com/github/sai1519/My-projects-and-programs/blob/main/Assignment2_3.ipynb\" target=\"_parent\"><img src=\"https://colab.research.google.com/assets/colab-badge.svg\" alt=\"Open In Colab\"/></a>"
      ]
    },
    {
      "cell_type": "markdown",
      "source": [
        "#Key issues\n",
        "##Build a system where when user enters Reference ID it is encrypted, so that hackers cannot view the mapping of Reference ID and finger print."
      ],
      "metadata": {
        "id": "dEu0F2Hx3wNr"
      }
    },
    {
      "cell_type": "code",
      "execution_count": null,
      "metadata": {
        "id": "CEle7vKS3svl",
        "colab": {
          "base_uri": "https://localhost:8080/"
        },
        "outputId": "eeccdbbc-a90d-4e54-b29f-95c53278ac95"
      },
      "outputs": [
        {
          "output_type": "stream",
          "name": "stdout",
          "text": [
            "Looking in indexes: https://pypi.org/simple, https://us-python.pkg.dev/colab-wheels/public/simple/\n",
            "Requirement already satisfied: cryptography in /usr/local/lib/python3.7/dist-packages (38.0.3)\n",
            "Requirement already satisfied: cffi>=1.12 in /usr/local/lib/python3.7/dist-packages (from cryptography) (1.15.1)\n",
            "Requirement already satisfied: pycparser in /usr/local/lib/python3.7/dist-packages (from cffi>=1.12->cryptography) (2.21)\n",
            "b'IeEppoagTtcYB2HOPiDpEu9vFbI0R1gqioKf4ocUjVo='\n",
            "Please enter your 12 digit Reference ID: sai151990par\n",
            "Your have entered b'sai151990par'\n",
            "b'gAAAAABjbiTJyfAUau_EH37-b1J3nrELqlIYGoQvg0tfzy5amdAA9bIO_XhQk0JjtDJzMSnj3pK5YHQhJXVArEJb0E7FuT4xmg=='\n",
            "b'sai151990par'\n"
          ]
        }
      ],
      "source": [
        "!pip install cryptography # installing the module\n",
        "from cryptography.fernet import Fernet\n",
        "key = Fernet.generate_key() # Generating the key\n",
        "print(key)\n",
        "rid = input(\"Please enter your 12 digit Reference ID: \").encode() # Converting the msg into byte\n",
        "if len(rid)==12:\n",
        "  print(\"Your have entered\", rid)\n",
        "xx = Fernet(key)\n",
        "encrpted_msg = xx.encrypt(rid) # Encrypting the message\n",
        "print(encrpted_msg)\n",
        "\n",
        "decryptedmsg = xx.decrypt(encrpted_msg)\n",
        "print(decryptedmsg)"
      ]
    },
    {
      "cell_type": "code",
      "source": [],
      "metadata": {
        "id": "VUVf3p8uJslo"
      },
      "execution_count": null,
      "outputs": []
    }
  ]
}