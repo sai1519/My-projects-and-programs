{
  "nbformat": 4,
  "nbformat_minor": 0,
  "metadata": {
    "colab": {
      "provenance": [],
      "authorship_tag": "ABX9TyOx86sSFuYKksYlULD0/JDy",
      "include_colab_link": true
    },
    "kernelspec": {
      "name": "python3",
      "display_name": "Python 3"
    },
    "language_info": {
      "name": "python"
    }
  },
  "cells": [
    {
      "cell_type": "markdown",
      "metadata": {
        "id": "view-in-github",
        "colab_type": "text"
      },
      "source": [
        "<a href=\"https://colab.research.google.com/github/sai1519/My-projects-and-programs/blob/main/Saishta's_Assignment1.ipynb\" target=\"_parent\"><img src=\"https://colab.research.google.com/assets/colab-badge.svg\" alt=\"Open In Colab\"/></a>"
      ]
    },
    {
      "cell_type": "markdown",
      "source": [
        "# Write a program which will find factors of given number and find whether the factor is even or odd.\n",
        "Hint: Use Loop with if-else statements"
      ],
      "metadata": {
        "id": "e7-VF7PfB-8W"
      }
    },
    {
      "cell_type": "code",
      "execution_count": null,
      "metadata": {
        "colab": {
          "base_uri": "https://localhost:8080/"
        },
        "id": "x6CAJO7DBsSW",
        "outputId": "24095fbf-3f4c-4825-d241-2883d9d435e1"
      },
      "outputs": [
        {
          "output_type": "stream",
          "name": "stdout",
          "text": [
            "Please enter the number: 12\n",
            "1\n",
            "This factor is odd\n",
            "2\n",
            "This factor is even\n",
            "3\n",
            "This factor is odd\n",
            "4\n",
            "This factor is even\n",
            "6\n",
            "This factor is even\n",
            "12\n",
            "This factor is even\n"
          ]
        }
      ],
      "source": [
        "x = int(input(\"Please enter the number: \"))\n",
        "for y in range(1,x+1): #The range() function returns a sequence of numbers, starting from 0 by default, and increments by 1 (by default), and stops before a specified number.\n",
        "  if x%y==0:\n",
        "    print(y)\n",
        "    if y%2==0:\n",
        "      print(\"This factor is even\")\n",
        "    else:\n",
        "      print(\"This factor is odd\")"
      ]
    },
    {
      "cell_type": "markdown",
      "source": [
        "# Write a code which accepts a sequence of words as input and prints the words in a sequence after sorting them alphabetically.\n",
        "## Hint: In case of input data being supplied to the question, it should be assumed to be a console input."
      ],
      "metadata": {
        "id": "7dVsKq9KD51K"
      }
    },
    {
      "cell_type": "code",
      "source": [
        "x=int(input(\"Please enter how many words you want to sort in alphabetical order: \"))\n",
        "list1=[]\n",
        "for y in range(x):\n",
        "  z= input(\"Please enter the words:\")\n",
        "  list1.append(z)\n",
        "list1.sort()\n",
        "print(\"The sorted words are\",list1)"
      ],
      "metadata": {
        "colab": {
          "base_uri": "https://localhost:8080/"
        },
        "id": "7dF58OiJvHHw",
        "outputId": "29b6a9a9-29e4-43ba-bea6-b42db02fc374"
      },
      "execution_count": null,
      "outputs": [
        {
          "output_type": "stream",
          "name": "stdout",
          "text": [
            "Please enter how many words you want to sort in alphabetical order: 3\n",
            "Please enter the words:hello\n",
            "Please enter the words:my\n",
            "Please enter the words:world\n",
            "The sorted words are ['hello', 'my', 'world']\n"
          ]
        }
      ]
    },
    {
      "cell_type": "markdown",
      "source": [
        "# Write a program, which will find all the numbers between 1000 and 3000 (both included) such that each digit of a number is an even number. The numbers obtained should be printed in a comma separated sequence on a single line.\n",
        "## Hint: In case of input data being supplied to the question, it should be assumed to be a console input. Divide each digit with 2 and verify is it even or not."
      ],
      "metadata": {
        "id": "ixhDsve-wY29"
      }
    },
    {
      "cell_type": "markdown",
      "source": [
        "# Doubt- I don't know why I am getting error."
      ],
      "metadata": {
        "id": "3dKSR5B2l7wI"
      }
    },
    {
      "cell_type": "code",
      "source": [
        "x= int(input(\"Please enter a number between 1000 to 3000: \"))\n",
        "y= int(input(\"Please enter a number between 1000 to 3000: \"))\n",
        "z=[]\n",
        "for k in range(x-1,y+1):\n",
        "  num=str(k)\n",
        "  if(int(num[0]%2==0) and int(num[1]%2==0) and int(num[2]%2==0) and int(num[3]%2==0)):\n",
        "    z.append(num)\n",
        "print(\",\".join(z)) # The join() method takes all items in an iterable and joins them into one string.A string must be specified as the separator.\n"
      ],
      "metadata": {
        "colab": {
          "base_uri": "https://localhost:8080/",
          "height": 269
        },
        "id": "qHbrNjsEw3zv",
        "outputId": "63fc82ee-cdd6-499f-8890-67684dda7d9e"
      },
      "execution_count": null,
      "outputs": [
        {
          "name": "stdout",
          "output_type": "stream",
          "text": [
            "Please enter a number between 1000 to 3000: 1000\n",
            "Please enter a number between 1000 to 3000: 3000\n"
          ]
        },
        {
          "output_type": "error",
          "ename": "TypeError",
          "evalue": "ignored",
          "traceback": [
            "\u001b[0;31m---------------------------------------------------------------------------\u001b[0m",
            "\u001b[0;31mTypeError\u001b[0m                                 Traceback (most recent call last)",
            "\u001b[0;32m<ipython-input-9-3ed6d245c73b>\u001b[0m in \u001b[0;36m<module>\u001b[0;34m\u001b[0m\n\u001b[1;32m      4\u001b[0m \u001b[0;32mfor\u001b[0m \u001b[0mk\u001b[0m \u001b[0;32min\u001b[0m \u001b[0mrange\u001b[0m\u001b[0;34m(\u001b[0m\u001b[0mx\u001b[0m\u001b[0;34m-\u001b[0m\u001b[0;36m1\u001b[0m\u001b[0;34m,\u001b[0m\u001b[0my\u001b[0m\u001b[0;34m+\u001b[0m\u001b[0;36m1\u001b[0m\u001b[0;34m)\u001b[0m\u001b[0;34m:\u001b[0m\u001b[0;34m\u001b[0m\u001b[0;34m\u001b[0m\u001b[0m\n\u001b[1;32m      5\u001b[0m   \u001b[0mnum\u001b[0m\u001b[0;34m=\u001b[0m\u001b[0mstr\u001b[0m\u001b[0;34m(\u001b[0m\u001b[0mk\u001b[0m\u001b[0;34m)\u001b[0m\u001b[0;34m\u001b[0m\u001b[0;34m\u001b[0m\u001b[0m\n\u001b[0;32m----> 6\u001b[0;31m   \u001b[0;32mif\u001b[0m\u001b[0;34m(\u001b[0m\u001b[0mint\u001b[0m\u001b[0;34m(\u001b[0m\u001b[0mnum\u001b[0m\u001b[0;34m[\u001b[0m\u001b[0;36m0\u001b[0m\u001b[0;34m]\u001b[0m\u001b[0;34m%\u001b[0m\u001b[0;36m2\u001b[0m\u001b[0;34m==\u001b[0m\u001b[0;36m0\u001b[0m\u001b[0;34m)\u001b[0m \u001b[0;32mand\u001b[0m \u001b[0mint\u001b[0m\u001b[0;34m(\u001b[0m\u001b[0mnum\u001b[0m\u001b[0;34m[\u001b[0m\u001b[0;36m1\u001b[0m\u001b[0;34m]\u001b[0m\u001b[0;34m%\u001b[0m\u001b[0;36m2\u001b[0m\u001b[0;34m==\u001b[0m\u001b[0;36m0\u001b[0m\u001b[0;34m)\u001b[0m \u001b[0;32mand\u001b[0m \u001b[0mint\u001b[0m\u001b[0;34m(\u001b[0m\u001b[0mnum\u001b[0m\u001b[0;34m[\u001b[0m\u001b[0;36m2\u001b[0m\u001b[0;34m]\u001b[0m\u001b[0;34m%\u001b[0m\u001b[0;36m2\u001b[0m\u001b[0;34m==\u001b[0m\u001b[0;36m0\u001b[0m\u001b[0;34m)\u001b[0m \u001b[0;32mand\u001b[0m \u001b[0mint\u001b[0m\u001b[0;34m(\u001b[0m\u001b[0mnum\u001b[0m\u001b[0;34m[\u001b[0m\u001b[0;36m3\u001b[0m\u001b[0;34m]\u001b[0m\u001b[0;34m%\u001b[0m\u001b[0;36m2\u001b[0m\u001b[0;34m==\u001b[0m\u001b[0;36m0\u001b[0m\u001b[0;34m)\u001b[0m\u001b[0;34m)\u001b[0m\u001b[0;34m:\u001b[0m\u001b[0;34m\u001b[0m\u001b[0;34m\u001b[0m\u001b[0m\n\u001b[0m\u001b[1;32m      7\u001b[0m     \u001b[0mz\u001b[0m\u001b[0;34m.\u001b[0m\u001b[0mappend\u001b[0m\u001b[0;34m(\u001b[0m\u001b[0mnum\u001b[0m\u001b[0;34m)\u001b[0m\u001b[0;34m\u001b[0m\u001b[0;34m\u001b[0m\u001b[0m\n\u001b[1;32m      8\u001b[0m \u001b[0mprint\u001b[0m\u001b[0;34m(\u001b[0m\u001b[0;34m\",\"\u001b[0m\u001b[0;34m.\u001b[0m\u001b[0mjoin\u001b[0m\u001b[0;34m(\u001b[0m\u001b[0mz\u001b[0m\u001b[0;34m)\u001b[0m\u001b[0;34m)\u001b[0m\u001b[0;34m\u001b[0m\u001b[0;34m\u001b[0m\u001b[0m\n",
            "\u001b[0;31mTypeError\u001b[0m: not all arguments converted during string formatting"
          ]
        }
      ]
    },
    {
      "cell_type": "markdown",
      "source": [
        "# Write a program that accepts a sentence and calculate the number of letters and digits.\n",
        "# Suppose if the entered string is: Python0325\n",
        "# Then the output will be:\n",
        "# LETTERS: 6\n",
        "# DIGITS:4\n",
        "## Hint: Use built-in functions of string."
      ],
      "metadata": {
        "id": "Hkgwop0hR309"
      }
    },
    {
      "cell_type": "code",
      "source": [
        "x = input(\"Please enter your sentence: \")\n",
        "character = 0\n",
        "number = 0\n",
        "for y in x:\n",
        "  if y.isdigit():\n",
        "    number+=1\n",
        "  elif y.isalpha():\n",
        "    character+=1\n",
        "  else:\n",
        "    pass\n",
        "print(\"Total characters are \", character)\n",
        "print (\"Total numbers are \", number)\n"
      ],
      "metadata": {
        "colab": {
          "base_uri": "https://localhost:8080/"
        },
        "id": "QQvnEyoYSCdg",
        "outputId": "65a7fa06-e607-442e-92ef-10cf45f21726"
      },
      "execution_count": null,
      "outputs": [
        {
          "output_type": "stream",
          "name": "stdout",
          "text": [
            "Please enter your sentence: saidhta 4649\n",
            "Total characters are  7\n",
            "Total numbers are  4\n"
          ]
        }
      ]
    },
    {
      "cell_type": "markdown",
      "source": [
        "# Design a code which will find the given number is Palindrome number or not.\n",
        "## Hint: Use built-in functions of string."
      ],
      "metadata": {
        "id": "lY5Iaes1VH8_"
      }
    },
    {
      "cell_type": "code",
      "source": [
        "# A strings reading same either ways are called palindromes.\n",
        "myinput = input(\"Please enter a number: \") # I am taking the input.\n",
        "reverse = myinput[ : :-1] # I am reversing the input fro slicing method and storing it into reverse variable.\n",
        "print(\"The reverse number is \",reverse)\n",
        "if (myinput == reverse):\n",
        "  print(\"The number is palindrome\")\n",
        "else:\n",
        "  print(\"The number is not a palindrome\")"
      ],
      "metadata": {
        "colab": {
          "base_uri": "https://localhost:8080/"
        },
        "id": "RSbbsn9HUE8J",
        "outputId": "9f58fdeb-f541-4e75-8854-42b875607aaa"
      },
      "execution_count": null,
      "outputs": [
        {
          "output_type": "stream",
          "name": "stdout",
          "text": [
            "Please enter a number: 1551\n",
            "The reverse number is  1551\n",
            "The number is palindrome\n"
          ]
        }
      ]
    },
    {
      "cell_type": "markdown",
      "source": [],
      "metadata": {
        "id": "yr1G9M-OCinz"
      }
    },
    {
      "cell_type": "markdown",
      "source": [
        "# Design a code which will find the given number is Palindrome number or not.\n",
        "## Hint: Use built-in functions of string."
      ],
      "metadata": {
        "id": "GHtbRNaLCvsh"
      }
    },
    {
      "cell_type": "markdown",
      "source": [
        "# Doubt - Unable to understand the logic of how to reverse the string."
      ],
      "metadata": {
        "id": "Ypwd5Jgvihdi"
      }
    },
    {
      "cell_type": "code",
      "source": [
        "myinput= int(input(\"Please enter your number: \")) # Taking input from user.\n",
        "tempnmb = myinput # storing input in another variable to apply reversal method.\n",
        "reversenmb = 0\n",
        "while (myinput>0):\n",
        "  x=myinput%10\n",
        "  reversenmb = reversenmb*10 + x\n",
        "  myinput = myinput//10\n",
        "if (tempnmb == reversenmb):\n",
        "  print(\"The number is palindrome\")\n",
        "else:\n",
        "  print(\"The number is not a palindrome\")"
      ],
      "metadata": {
        "colab": {
          "base_uri": "https://localhost:8080/"
        },
        "id": "QdelPduvb6m2",
        "outputId": "74627763-fdea-4747-92b6-41afd8df8ac3"
      },
      "execution_count": null,
      "outputs": [
        {
          "output_type": "stream",
          "name": "stdout",
          "text": [
            "Please enter your number: 151\n",
            "The number is palindrome\n"
          ]
        }
      ]
    },
    {
      "cell_type": "code",
      "source": [],
      "metadata": {
        "id": "AuSjDhQ5j_aX"
      },
      "execution_count": null,
      "outputs": []
    }
  ]
}