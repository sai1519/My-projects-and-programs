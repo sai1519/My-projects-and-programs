{
  "nbformat": 4,
  "nbformat_minor": 0,
  "metadata": {
    "colab": {
      "provenance": [],
      "authorship_tag": "ABX9TyME8BrGpkZ+QrdtxW9mylC1",
      "include_colab_link": true
    },
    "kernelspec": {
      "name": "python3",
      "display_name": "Python 3"
    },
    "language_info": {
      "name": "python"
    }
  },
  "cells": [
    {
      "cell_type": "markdown",
      "metadata": {
        "id": "view-in-github",
        "colab_type": "text"
      },
      "source": [
        "<a href=\"https://colab.research.google.com/github/sai1519/My-projects-and-programs/blob/main/Saishta's_Assignment_2_2.ipynb\" target=\"_parent\"><img src=\"https://colab.research.google.com/assets/colab-badge.svg\" alt=\"Open In Colab\"/></a>"
      ]
    },
    {
      "cell_type": "markdown",
      "source": [
        "# What is the output of the following code?\n",
        "## nums = set([1,1,2,3,3,3,4,4])\n",
        "## print(len(nums))\n",
        "### Hint: Set consists unique element."
      ],
      "metadata": {
        "id": "5gV9mwHa7WCA"
      }
    },
    {
      "cell_type": "code",
      "execution_count": null,
      "metadata": {
        "colab": {
          "base_uri": "https://localhost:8080/"
        },
        "id": "1KKu87Vv7QiH",
        "outputId": "70c09d37-76f0-4e00-9a4e-4775c79f6726"
      },
      "outputs": [
        {
          "output_type": "stream",
          "name": "stdout",
          "text": [
            "4\n"
          ]
        }
      ],
      "source": [
        "nums = set([1,1,2,3,3,3,4,4])\n",
        "print(len(nums))"
      ]
    },
    {
      "cell_type": "markdown",
      "source": [
        "# What will be the output?\n",
        "## d = {\"john\":40, \"peter\":45}\n",
        "## print(list(d.keys()))\n",
        "### Hint: d.keys() is the function which will show keys."
      ],
      "metadata": {
        "id": "gqcuE23A7VHb"
      }
    },
    {
      "cell_type": "code",
      "source": [
        "d = {\"john\":40, \"peter\":45}\n",
        "print(list(d.keys()))"
      ],
      "metadata": {
        "colab": {
          "base_uri": "https://localhost:8080/"
        },
        "id": "rkcbeyEz8bdd",
        "outputId": "1d310cab-7127-4b04-d67e-c8f6dc23bec7"
      },
      "execution_count": null,
      "outputs": [
        {
          "output_type": "stream",
          "name": "stdout",
          "text": [
            "['john', 'peter']\n"
          ]
        }
      ]
    },
    {
      "cell_type": "markdown",
      "source": [
        "# A website requires a user to input username and password to register. Write a program to check the validity of password given by user. Following are the criteria for checking password:\n",
        "## 1. At least 1 letter between [a-z]\n",
        "## 2. At least 1 number between [0-9]\n",
        "## 1. At least 1 letter between [A-Z]\n",
        "## 3. At least 1 character from [$#@]\n",
        "## 4. Minimum length of transaction password: 6\n",
        "## 5. Maximum length of transaction password: 12\n",
        "### Hint: In case of input data being supplied to the question, it should be assumed to be a console input."
      ],
      "metadata": {
        "id": "E5f9WpVb9HhF"
      }
    },
    {
      "cell_type": "code",
      "source": [
        "p = input(\"Please enter a password: \")\n",
        "x = True\n",
        "import re\n",
        "if not re.search(\"[a-z]\",p):\n",
        "  x = False\n",
        "  print(\"Please enter at least 1 letter between [a-z]\")\n",
        "if not re.search(\"[0-9]\",p):\n",
        "  x = False\n",
        "  print(\"Please enter at least 1 number between [0-9]\")\n",
        "if not re.search(\"[A-Z]\",p):\n",
        "  x = False\n",
        "  print(\"Please enter at least 1 letter between [A-Z]\")\n",
        "if not re.search(\"[$#@]\",p):\n",
        "  x = False\n",
        "  print(\"Please enter at least 1 character from [$#@]\")\n",
        "if len(p)<6 and len(p)>12:\n",
        "  print(\"Your password is Valid\")\n",
        "else:\n",
        "  print(\"Your Password is Invalid\")"
      ],
      "metadata": {
        "id": "pDW8KBwP8faF",
        "colab": {
          "base_uri": "https://localhost:8080/"
        },
        "outputId": "5a9f2723-a442-47cc-e66a-f940529addcf"
      },
      "execution_count": null,
      "outputs": [
        {
          "output_type": "stream",
          "name": "stdout",
          "text": [
            "Please enter a password: Ibadat@786\n",
            "Your Password is Invalid\n"
          ]
        }
      ]
    },
    {
      "cell_type": "markdown",
      "source": [
        "# Write a for loop that prints all elements of a list and their position in the list.\n",
        "## a = [4,7,3,2,5,9]\n",
        "### Hint: Use Loop to iterate through list elements\n"
      ],
      "metadata": {
        "id": "lNSOWVj0fwdD"
      }
    },
    {
      "cell_type": "code",
      "source": [
        "a=[4,7,3,2,5,9]\n",
        "for x in a:\n",
        "  print(\"Element: \"+ str(x), \"Index position: \" + str(a.index(x)))"
      ],
      "metadata": {
        "colab": {
          "base_uri": "https://localhost:8080/"
        },
        "id": "axnAULzIYpet",
        "outputId": "485bd619-9cba-4c7d-8d6c-74cf830937ba"
      },
      "execution_count": null,
      "outputs": [
        {
          "output_type": "stream",
          "name": "stdout",
          "text": [
            "Element: 4 Index position: 0\n",
            "Element: 7 Index position: 1\n",
            "Element: 3 Index position: 2\n",
            "Element: 2 Index position: 3\n",
            "Element: 5 Index position: 4\n",
            "Element: 9 Index position: 5\n"
          ]
        }
      ]
    },
    {
      "cell_type": "code",
      "source": [],
      "metadata": {
        "id": "YxLB3y08gs7f"
      },
      "execution_count": null,
      "outputs": []
    },
    {
      "cell_type": "markdown",
      "source": [
        "# Please write a program which accepts a string from console and print the characters that have even indexes.\n",
        "## Example: If the following string is given as input to the program:\n",
        "### H1e2l3l4o5w6o7r8l9d\n",
        "### Then, the output of the program should be:\n",
        "### Helloworld"
      ],
      "metadata": {
        "id": "lEwtlqM_EqQi"
      }
    },
    {
      "cell_type": "code",
      "source": [
        "string = input(\"Please enter your string: \")\n",
        "for x in string:\n",
        "  if (string.index(x))%2==0:\n",
        "    print(x)\n",
        ""
      ],
      "metadata": {
        "colab": {
          "base_uri": "https://localhost:8080/"
        },
        "id": "_LR0RNocE2d3",
        "outputId": "eb7f8989-1753-4f61-ec1e-6aad3fd8275c"
      },
      "execution_count": null,
      "outputs": [
        {
          "output_type": "stream",
          "name": "stdout",
          "text": [
            "Please enter your string: H1e2l3l4o5w6o7r8l9d\n",
            "H\n",
            "e\n",
            "l\n",
            "l\n",
            "o\n",
            "w\n",
            "o\n",
            "r\n",
            "l\n",
            "d\n"
          ]
        }
      ]
    },
    {
      "cell_type": "markdown",
      "source": [
        "# Please write a program which accepts a string from console and print it in reverse order.\n",
        "## Example: If the following string is given as input to the program:\n",
        "### rise to vote sir\n",
        "### Then, the output of the program should be:\n",
        "### ris etov ot esir"
      ],
      "metadata": {
        "id": "AiJC71u-Hyk1"
      }
    },
    {
      "cell_type": "code",
      "source": [
        "xx = input(\"Please enter your string: \")\n",
        "yy = []\n",
        "yy = xx[ : :-1]\n",
        "print(yy)"
      ],
      "metadata": {
        "colab": {
          "base_uri": "https://localhost:8080/"
        },
        "id": "L0UlHSIfFhHY",
        "outputId": "782b8404-4934-4056-c572-541a4bfaa9b7"
      },
      "execution_count": null,
      "outputs": [
        {
          "output_type": "stream",
          "name": "stdout",
          "text": [
            "Please enter your string: hello my name is sai\n",
            "ias si eman ym olleh\n"
          ]
        }
      ]
    },
    {
      "cell_type": "markdown",
      "source": [
        "# Please write a program which count and print the numbers of each character in a string input by console.\n",
        "## Example: If the following string is given as input to the program:\n",
        "### abcdefgabc\n",
        "### Then, the output of the program should be:\n",
        "### a,2\n",
        "### c,2\n",
        "### b,2\n",
        "### e,1\n",
        "### d,1\n",
        "### g,1\n",
        "### f,1"
      ],
      "metadata": {
        "id": "8ob9mEtuJjwe"
      }
    },
    {
      "cell_type": "code",
      "source": [
        "string= input(\"Please enter your string: \")\n",
        "empty=\"\"\n",
        "for x in string:\n",
        "  if x not in empty:\n",
        "    print(x,\",\", string.count(x))\n",
        "    empty = empty + x\n"
      ],
      "metadata": {
        "colab": {
          "base_uri": "https://localhost:8080/"
        },
        "id": "D8oRd-qlIdh3",
        "outputId": "0743a963-73f3-4263-d90d-504511cf310c"
      },
      "execution_count": null,
      "outputs": [
        {
          "output_type": "stream",
          "name": "stdout",
          "text": [
            "Please enter your string: saishta\n",
            "s , 2\n",
            "a , 2\n",
            "i , 1\n",
            "h , 1\n",
            "t , 1\n"
          ]
        }
      ]
    },
    {
      "cell_type": "markdown",
      "source": [
        "# With two given lists [1,3,6,78,35,55] and [12,24,35,24,88,120,155], write a program to make a list whose elements are intersection of the above given lists."
      ],
      "metadata": {
        "id": "CosKMRSPNUJn"
      }
    },
    {
      "cell_type": "code",
      "source": [
        "list1 = set([1,3,6,78,35,55])\n",
        "list2 = set([12,24,35,24,88,120,155])\n",
        "list3 = []\n",
        "list3 = list1.intersection(list2)\n",
        "print(list3)"
      ],
      "metadata": {
        "colab": {
          "base_uri": "https://localhost:8080/"
        },
        "id": "lx583QrvLkYa",
        "outputId": "f2834cf5-c515-49b3-c638-e1a2c55b6f69"
      },
      "execution_count": null,
      "outputs": [
        {
          "output_type": "stream",
          "name": "stdout",
          "text": [
            "{35}\n"
          ]
        }
      ]
    },
    {
      "cell_type": "markdown",
      "source": [
        "# By using list comprehension, please write a program to print the list after removing the value 24 in [12,24,35,24,88,120,155]."
      ],
      "metadata": {
        "id": "BjOtGGzqgsBo"
      }
    },
    {
      "cell_type": "code",
      "source": [
        "list1 = [12,24,35,24,88,120,155]\n",
        "list2 = [x for x in list1 if x!=24]\n",
        "list2"
      ],
      "metadata": {
        "id": "3icLO22bNv8j",
        "colab": {
          "base_uri": "https://localhost:8080/"
        },
        "outputId": "7434e776-fa93-4766-fb97-c8eb5480117a"
      },
      "execution_count": null,
      "outputs": [
        {
          "output_type": "execute_result",
          "data": {
            "text/plain": [
              "[12, 35, 88, 120, 155]"
            ]
          },
          "metadata": {},
          "execution_count": 8
        }
      ]
    },
    {
      "cell_type": "markdown",
      "source": [
        "# By using list comprehension, please write a program to print the list after removing the 0th,4th,5th numbers in [12,24,35,70,88,120,155]."
      ],
      "metadata": {
        "id": "gTEwZIOejhwa"
      }
    },
    {
      "cell_type": "code",
      "source": [
        "list0 = [12,24,35,70,88,120,155]\n",
        "list3 = [y for (x,y) in enumerate(list0) if x not in (0,4,5)]\n",
        "list3"
      ],
      "metadata": {
        "colab": {
          "base_uri": "https://localhost:8080/"
        },
        "id": "XrNoneBkhojo",
        "outputId": "48a6b5c9-b6a1-4fda-b175-54e6cf1cdd9e"
      },
      "execution_count": null,
      "outputs": [
        {
          "output_type": "execute_result",
          "data": {
            "text/plain": [
              "[24, 35, 70, 155]"
            ]
          },
          "metadata": {},
          "execution_count": 13
        }
      ]
    },
    {
      "cell_type": "markdown",
      "source": [
        "# By using list comprehension, please write a program to print the list after removing delete numbers which are divisible by 5 and 7 in [12,24,35,70,88,120,155]"
      ],
      "metadata": {
        "id": "aWPFoKe-oJ3l"
      }
    },
    {
      "cell_type": "code",
      "source": [
        "list4 = [12,24,35,70,88,120,155]\n",
        "list5 = [x for x in list4 if not x%5==0 & x%7==0]\n",
        "list5"
      ],
      "metadata": {
        "colab": {
          "base_uri": "https://localhost:8080/"
        },
        "id": "YZvPNSiYjhLp",
        "outputId": "121541f5-313b-4597-ad22-b60d779ff798"
      },
      "execution_count": null,
      "outputs": [
        {
          "output_type": "execute_result",
          "data": {
            "text/plain": [
              "[12, 24, 88]"
            ]
          },
          "metadata": {},
          "execution_count": 14
        }
      ]
    },
    {
      "cell_type": "markdown",
      "source": [
        "# Write a program to compute 1/2+2/3+3/4+...+n/n+1 with a given n input by console (n>0).\n",
        "## Example:\n",
        "## If the following n is given as input to the program:\n",
        "### 5\n",
        "## Then, the output of the program should be:\n",
        "### 3.55"
      ],
      "metadata": {
        "id": "q9jJmVicpiAK"
      }
    },
    {
      "cell_type": "code",
      "source": [
        "x = int(input(\"Please enter your number: \"))\n",
        "sum = 0\n",
        "for y in range(1,x+1):\n",
        "  sum = sum + (x/(x+1))\n",
        "print(\"Result:\",round(sum,2))"
      ],
      "metadata": {
        "colab": {
          "base_uri": "https://localhost:8080/"
        },
        "id": "U5vR2D_fo4lS",
        "outputId": "846cef39-e960-4956-fee0-3edbc3737317"
      },
      "execution_count": null,
      "outputs": [
        {
          "output_type": "stream",
          "name": "stdout",
          "text": [
            "Please enter your number: 8\n",
            "Result: 7.11\n"
          ]
        }
      ]
    },
    {
      "cell_type": "code",
      "source": [],
      "metadata": {
        "id": "T4UlaBGsq2_t"
      },
      "execution_count": null,
      "outputs": []
    }
  ]
}